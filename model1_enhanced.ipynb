{
  "cells": [
    {
      "cell_type": "code",
      "execution_count": 4,
      "metadata": {
        "colab": {
          "base_uri": "https://localhost:8080/"
        },
        "id": "dIP21zu3NiVx",
        "outputId": "135333b5-349f-42e2-8d8d-1aaf7370033d"
      },
      "outputs": [
        {
          "output_type": "stream",
          "name": "stdout",
          "text": [
            "\u001b[33mWARNING: Ignoring invalid distribution ~vidia-cudnn-cu12 (/usr/local/lib/python3.11/dist-packages)\u001b[0m\u001b[33m\n",
            "\u001b[0m\u001b[33mWARNING: Ignoring invalid distribution ~vidia-cudnn-cu12 (/usr/local/lib/python3.11/dist-packages)\u001b[0m\u001b[33m\n",
            "\u001b[0m\u001b[33mWARNING: Ignoring invalid distribution ~vidia-cudnn-cu12 (/usr/local/lib/python3.11/dist-packages)\u001b[0m\u001b[33m\n",
            "\u001b[0m"
          ]
        }
      ],
      "source": [
        "pip install -q transformers datasets sentencepiece accelerate bitsandbytes peft scikit-learn"
      ]
    },
    {
      "cell_type": "code",
      "execution_count": 5,
      "metadata": {
        "id": "GLJHUteJNg67"
      },
      "outputs": [],
      "source": [
        "import pandas as pd, torch, numpy as np\n",
        "from transformers import (AutoTokenizer, AutoModel,\n",
        "                          TrainingArguments, Trainer,\n",
        "                          DataCollatorWithPadding)\n",
        "from transformers.modeling_outputs import SequenceClassifierOutput\n",
        "import sklearn.metrics as skm"
      ]
    },
    {
      "cell_type": "code",
      "execution_count": 6,
      "metadata": {
        "id": "TnvIx1NMNjFJ",
        "colab": {
          "base_uri": "https://localhost:8080/"
        },
        "outputId": "3e3cb877-3c08-48fe-d40c-6735e0fe0fb3"
      },
      "outputs": [
        {
          "output_type": "stream",
          "name": "stderr",
          "text": [
            "/usr/local/lib/python3.11/dist-packages/huggingface_hub/utils/_auth.py:94: UserWarning: \n",
            "The secret `HF_TOKEN` does not exist in your Colab secrets.\n",
            "To authenticate with the Hugging Face Hub, create a token in your settings tab (https://huggingface.co/settings/tokens), set it as secret in your Google Colab and restart your session.\n",
            "You will be able to reuse this secret in all of your notebooks.\n",
            "Please note that authentication is recommended but still optional to access public models or datasets.\n",
            "  warnings.warn(\n"
          ]
        }
      ],
      "source": [
        "spl_pand = {'train': 'Personality Datasets - Reddit/train_set.csv'}\n",
        "spl_ess  = {'train': 'data/train-00000-of-00001.parquet'}\n",
        "\n",
        "df_pand = pd.read_csv(\"hf://datasets/Fatima0923/Automated-Personality-Prediction/\"+spl_pand[\"train\"])\n",
        "df_ess  = pd.read_parquet(\"hf://datasets/jingjietan/essays-big5/\"+spl_ess[\"train\"])\n",
        "\n",
        "df_pand.rename(columns={'openness':'O','conscientiousness':'C',\n",
        "                        'extraversion':'E','agreeableness':'A','neuroticism':'N'},inplace=True)\n",
        "for t in ['O','C','E','A','N']: df_pand[t] = (df_pand[t] > 50).astype(int)\n",
        "\n",
        "df_ess.drop(columns=['__index_level_0__','ptype'], inplace=True)\n",
        "df_all = pd.concat([df_pand[['text','O','C','E','A','N']],\n",
        "                    df_ess[['text','O','C','E','A','N']]]).reset_index(drop=True)\n",
        "\n",
        "from sklearn.model_selection import train_test_split\n",
        "train_df, test_df = train_test_split(df_all, test_size=0.2, random_state=42, stratify=df_all[['O','C','E','A','N']])\n",
        "train_df, val_df  = train_test_split(train_df, test_size=0.2, random_state=42, stratify=train_df[['O','C','E','A','N']])"
      ]
    },
    {
      "cell_type": "code",
      "source": [
        "class PersonalityDataset(torch.utils.data.Dataset):\n",
        "    def __init__(self, df, tok, max_len=512):\n",
        "        self.enc = tok(\n",
        "            list(df[\"text\"]),\n",
        "            padding=\"max_length\",\n",
        "            truncation=True,\n",
        "            max_length=max_len,\n",
        "            return_tensors=\"pt\"\n",
        "        )\n",
        "        self.labels = torch.tensor(\n",
        "            df[traits].to_numpy(dtype=np.float32),\n",
        "            dtype=torch.float32\n",
        "        )\n",
        "\n",
        "    def __len__(self):  return len(self.labels)\n",
        "\n",
        "    def __getitem__(self, idx):\n",
        "        item = {k: v[idx] for k, v in self.enc.items()}\n",
        "        item[\"labels\"] = self.labels[idx]\n",
        "        return item"
      ],
      "metadata": {
        "id": "pohMOEh1QLfk"
      },
      "execution_count": 12,
      "outputs": []
    },
    {
      "cell_type": "code",
      "execution_count": 7,
      "metadata": {
        "id": "O4ZvieuPNorh"
      },
      "outputs": [],
      "source": [
        "class BertBig5(torch.nn.Module):\n",
        "    def __init__(self, mdl, pos_w):\n",
        "        super().__init__()\n",
        "        self.backbone = AutoModel.from_pretrained(mdl)\n",
        "        h = self.backbone.config.hidden_size\n",
        "        self.cls = torch.nn.Sequential(\n",
        "            torch.nn.Dropout(0.2),\n",
        "            torch.nn.Linear(h, h),\n",
        "            torch.nn.ReLU(),\n",
        "            torch.nn.Dropout(0.2),\n",
        "            torch.nn.Linear(h, 5)\n",
        "        )\n",
        "        self.crit = torch.nn.BCEWithLogitsLoss(pos_weight=pos_w)\n",
        "    def forward(self, input_ids, attention_mask, labels=None):\n",
        "        x = self.backbone(input_ids, attention_mask).last_hidden_state[:,0]\n",
        "        logits = self.cls(x)\n",
        "        loss = self.crit(logits, labels) if labels is not None else None\n",
        "        return SequenceClassifierOutput(loss=loss, logits=logits)"
      ]
    },
    {
      "cell_type": "code",
      "execution_count": 8,
      "metadata": {
        "id": "gPttI-s9Ns4Q"
      },
      "outputs": [],
      "source": [
        "def compute_metrics(eval_pred):\n",
        "    logits, labels = eval_pred\n",
        "    probs = torch.sigmoid(torch.tensor(logits)).numpy()\n",
        "    if not hasattr(compute_metrics, \"thr\"):\n",
        "        thr = []\n",
        "        for j in range(5):\n",
        "            best = max((skm.f1_score(labels[:,j], (probs[:,j]>t)),\n",
        "                        t) for t in np.linspace(0.1,0.9,17))[1]\n",
        "            thr.append(best)\n",
        "        compute_metrics.thr = np.array(thr)\n",
        "    pred = (probs > compute_metrics.thr).astype(int)\n",
        "    return {\"f1_macro\": skm.f1_score(labels, pred, average=\"macro\"),\n",
        "            \"f1_micro\": skm.f1_score(labels, pred, average=\"micro\"),\n",
        "            \"accuracy\":  skm.accuracy_score(labels, pred)}"
      ]
    },
    {
      "cell_type": "code",
      "source": [
        "traits = [\"O\", \"C\", \"E\", \"A\", \"N\"]\n",
        "\n",
        "def enforce_numeric(df):\n",
        "    for t in traits:\n",
        "        df[t] = (\n",
        "            pd.to_numeric(df[t], errors=\"coerce\")\n",
        "              .fillna(0)\n",
        "              .astype(int)\n",
        "        )\n",
        "    return df\n",
        "\n",
        "train_df = enforce_numeric(train_df)\n",
        "val_df   = enforce_numeric(val_df)\n",
        "test_df  = enforce_numeric(test_df)"
      ],
      "metadata": {
        "id": "ePAUZGZYQ-4E"
      },
      "execution_count": 14,
      "outputs": []
    },
    {
      "cell_type": "code",
      "execution_count": 15,
      "metadata": {
        "id": "9wdb3IvKN4Gg"
      },
      "outputs": [],
      "source": [
        "mdl_name   = \"bert-base-uncased\"\n",
        "tok        = AutoTokenizer.from_pretrained(mdl_name)\n",
        "traits     = [\"O\",\"C\",\"E\",\"A\",\"N\"]\n",
        "\n",
        "train_ds = PersonalityDataset(train_df, tok)\n",
        "val_ds   = PersonalityDataset(val_df, tok)\n",
        "test_ds  = PersonalityDataset(test_df, tok)\n",
        "\n",
        "pos_w = torch.tensor([(len(train_df)-train_df[t].sum())/train_df[t].sum() for t in traits])"
      ]
    },
    {
      "cell_type": "code",
      "execution_count": 17,
      "metadata": {
        "id": "eeB3yczsNu8z",
        "colab": {
          "base_uri": "https://localhost:8080/",
          "height": 104,
          "referenced_widgets": [
            "69bfb439ca19466f8b8799305e299c26",
            "596269e5de7449c9b405cb17f4a3e206",
            "0ae275ec5cb54ad498860ea85a04e4eb",
            "d5e9a212210f48338f9a9be14bbfb5c4",
            "d3fac86ebd744106aa970b1b81ed69ec",
            "cd0cba50254c4637a54f16e6b7ba51cb",
            "9382607cad444880bb4129ccd38079ec",
            "5f304f987569418cab896639a7f2f62c",
            "f4f402d636904c71a32775e51767a052",
            "2f130821d0e346cab578fc05b3ae4c54",
            "2f1ce38f50cf4c028cc5d8dfffefcdaf"
          ]
        },
        "outputId": "d762588a-6620-48ea-9ae9-61b030c6e6d2"
      },
      "outputs": [
        {
          "output_type": "stream",
          "name": "stderr",
          "text": [
            "Xet Storage is enabled for this repo, but the 'hf_xet' package is not installed. Falling back to regular HTTP download. For better performance, install the package with: `pip install huggingface_hub[hf_xet]` or `pip install hf_xet`\n",
            "WARNING:huggingface_hub.file_download:Xet Storage is enabled for this repo, but the 'hf_xet' package is not installed. Falling back to regular HTTP download. For better performance, install the package with: `pip install huggingface_hub[hf_xet]` or `pip install hf_xet`\n"
          ]
        },
        {
          "output_type": "display_data",
          "data": {
            "text/plain": [
              "model.safetensors:   0%|          | 0.00/440M [00:00<?, ?B/s]"
            ],
            "application/vnd.jupyter.widget-view+json": {
              "version_major": 2,
              "version_minor": 0,
              "model_id": "69bfb439ca19466f8b8799305e299c26"
            }
          },
          "metadata": {}
        }
      ],
      "source": [
        "args = TrainingArguments(\n",
        "    \"./big5\", eval_strategy=\"epoch\", save_strategy=\"epoch\",\n",
        "    metric_for_best_model=\"f1_macro\", load_best_model_at_end=True,\n",
        "    num_train_epochs=5, learning_rate=2e-5, weight_decay=0.01,\n",
        "    per_device_train_batch_size=16, gradient_accumulation_steps=2,\n",
        "    fp16=torch.cuda.is_available(), warmup_ratio=0.06, logging_steps=50)\n",
        "\n",
        "trainer = Trainer(\n",
        "    model         = BertBig5(mdl_name, pos_w),\n",
        "    args          = args,\n",
        "    train_dataset = train_ds,\n",
        "    eval_dataset  = val_ds,\n",
        "    compute_metrics = compute_metrics,\n",
        ")"
      ]
    },
    {
      "cell_type": "code",
      "execution_count": 18,
      "metadata": {
        "id": "90LrJeO-Nv3v",
        "colab": {
          "base_uri": "https://localhost:8080/",
          "height": 498
        },
        "outputId": "db6fd33c-dfe8-48da-de2f-64c08aa68aff"
      },
      "outputs": [
        {
          "output_type": "stream",
          "name": "stderr",
          "text": [
            "\u001b[34m\u001b[1mwandb\u001b[0m: \u001b[33mWARNING\u001b[0m The `run_name` is currently set to the same value as `TrainingArguments.output_dir`. If this was not intended, please specify a different run name by setting the `TrainingArguments.run_name` parameter.\n",
            "\u001b[34m\u001b[1mwandb\u001b[0m: Using wandb-core as the SDK backend.  Please refer to https://wandb.me/wandb-core for more information.\n"
          ]
        },
        {
          "output_type": "display_data",
          "data": {
            "text/plain": [
              "<IPython.core.display.Javascript object>"
            ],
            "application/javascript": [
              "\n",
              "        window._wandbApiKey = new Promise((resolve, reject) => {\n",
              "            function loadScript(url) {\n",
              "            return new Promise(function(resolve, reject) {\n",
              "                let newScript = document.createElement(\"script\");\n",
              "                newScript.onerror = reject;\n",
              "                newScript.onload = resolve;\n",
              "                document.body.appendChild(newScript);\n",
              "                newScript.src = url;\n",
              "            });\n",
              "            }\n",
              "            loadScript(\"https://cdn.jsdelivr.net/npm/postmate/build/postmate.min.js\").then(() => {\n",
              "            const iframe = document.createElement('iframe')\n",
              "            iframe.style.cssText = \"width:0;height:0;border:none\"\n",
              "            document.body.appendChild(iframe)\n",
              "            const handshake = new Postmate({\n",
              "                container: iframe,\n",
              "                url: 'https://wandb.ai/authorize'\n",
              "            });\n",
              "            const timeout = setTimeout(() => reject(\"Couldn't auto authenticate\"), 5000)\n",
              "            handshake.then(function(child) {\n",
              "                child.on('authorize', data => {\n",
              "                    clearTimeout(timeout)\n",
              "                    resolve(data)\n",
              "                });\n",
              "            });\n",
              "            })\n",
              "        });\n",
              "    "
            ]
          },
          "metadata": {}
        },
        {
          "output_type": "stream",
          "name": "stderr",
          "text": [
            "\u001b[34m\u001b[1mwandb\u001b[0m: Logging into wandb.ai. (Learn how to deploy a W&B server locally: https://wandb.me/wandb-server)\n",
            "\u001b[34m\u001b[1mwandb\u001b[0m: You can find your API key in your browser here: https://wandb.ai/authorize\n",
            "wandb: Paste an API key from your profile and hit enter:"
          ]
        },
        {
          "name": "stdout",
          "output_type": "stream",
          "text": [
            " ··········\n"
          ]
        },
        {
          "output_type": "stream",
          "name": "stderr",
          "text": [
            "\u001b[34m\u001b[1mwandb\u001b[0m: \u001b[33mWARNING\u001b[0m If you're specifying your api key in code, ensure this code is not shared publicly.\n",
            "\u001b[34m\u001b[1mwandb\u001b[0m: \u001b[33mWARNING\u001b[0m Consider setting the WANDB_API_KEY environment variable, or running `wandb login` from the command line.\n",
            "\u001b[34m\u001b[1mwandb\u001b[0m: No netrc file found, creating one.\n",
            "\u001b[34m\u001b[1mwandb\u001b[0m: Appending key for api.wandb.ai to your netrc file: /root/.netrc\n",
            "\u001b[34m\u001b[1mwandb\u001b[0m: Currently logged in as: \u001b[33mposchyokotov\u001b[0m (\u001b[33mposchyokotov-hse-university\u001b[0m) to \u001b[32mhttps://api.wandb.ai\u001b[0m. Use \u001b[1m`wandb login --relogin`\u001b[0m to force relogin\n"
          ]
        },
        {
          "output_type": "display_data",
          "data": {
            "text/plain": [
              "<IPython.core.display.HTML object>"
            ],
            "text/html": [
              "Tracking run with wandb version 0.19.9"
            ]
          },
          "metadata": {}
        },
        {
          "output_type": "display_data",
          "data": {
            "text/plain": [
              "<IPython.core.display.HTML object>"
            ],
            "text/html": [
              "Run data is saved locally in <code>/content/wandb/run-20250422_161203-fkr39hvq</code>"
            ]
          },
          "metadata": {}
        },
        {
          "output_type": "display_data",
          "data": {
            "text/plain": [
              "<IPython.core.display.HTML object>"
            ],
            "text/html": [
              "Syncing run <strong><a href='https://wandb.ai/poschyokotov-hse-university/huggingface/runs/fkr39hvq' target=\"_blank\">./big5</a></strong> to <a href='https://wandb.ai/poschyokotov-hse-university/huggingface' target=\"_blank\">Weights & Biases</a> (<a href='https://wandb.me/developer-guide' target=\"_blank\">docs</a>)<br>"
            ]
          },
          "metadata": {}
        },
        {
          "output_type": "display_data",
          "data": {
            "text/plain": [
              "<IPython.core.display.HTML object>"
            ],
            "text/html": [
              " View project at <a href='https://wandb.ai/poschyokotov-hse-university/huggingface' target=\"_blank\">https://wandb.ai/poschyokotov-hse-university/huggingface</a>"
            ]
          },
          "metadata": {}
        },
        {
          "output_type": "display_data",
          "data": {
            "text/plain": [
              "<IPython.core.display.HTML object>"
            ],
            "text/html": [
              " View run at <a href='https://wandb.ai/poschyokotov-hse-university/huggingface/runs/fkr39hvq' target=\"_blank\">https://wandb.ai/poschyokotov-hse-university/huggingface/runs/fkr39hvq</a>"
            ]
          },
          "metadata": {}
        },
        {
          "output_type": "display_data",
          "data": {
            "text/plain": [
              "<IPython.core.display.HTML object>"
            ],
            "text/html": [
              "\n",
              "    <div>\n",
              "      \n",
              "      <progress value='1760' max='1760' style='width:300px; height:20px; vertical-align: middle;'></progress>\n",
              "      [1760/1760 24:49, Epoch 4/5]\n",
              "    </div>\n",
              "    <table border=\"1\" class=\"dataframe\">\n",
              "  <thead>\n",
              " <tr style=\"text-align: left;\">\n",
              "      <th>Epoch</th>\n",
              "      <th>Training Loss</th>\n",
              "      <th>Validation Loss</th>\n",
              "      <th>F1 Macro</th>\n",
              "      <th>F1 Micro</th>\n",
              "      <th>Accuracy</th>\n",
              "    </tr>\n",
              "  </thead>\n",
              "  <tbody>\n",
              "    <tr>\n",
              "      <td>1</td>\n",
              "      <td>0.798500</td>\n",
              "      <td>0.794822</td>\n",
              "      <td>0.571765</td>\n",
              "      <td>0.614200</td>\n",
              "      <td>0.043972</td>\n",
              "    </tr>\n",
              "    <tr>\n",
              "      <td>2</td>\n",
              "      <td>0.762000</td>\n",
              "      <td>0.782641</td>\n",
              "      <td>0.573908</td>\n",
              "      <td>0.607728</td>\n",
              "      <td>0.058156</td>\n",
              "    </tr>\n",
              "    <tr>\n",
              "      <td>3</td>\n",
              "      <td>0.694700</td>\n",
              "      <td>0.786406</td>\n",
              "      <td>0.586807</td>\n",
              "      <td>0.626796</td>\n",
              "      <td>0.102128</td>\n",
              "    </tr>\n",
              "    <tr>\n",
              "      <td>4</td>\n",
              "      <td>0.602200</td>\n",
              "      <td>0.836316</td>\n",
              "      <td>0.584651</td>\n",
              "      <td>0.629509</td>\n",
              "      <td>0.123404</td>\n",
              "    </tr>\n",
              "  </tbody>\n",
              "</table><p>"
            ]
          },
          "metadata": {}
        }
      ],
      "source": [
        "trainer.train();      # ~40 min on a T4"
      ]
    },
    {
      "cell_type": "code",
      "execution_count": 19,
      "metadata": {
        "id": "OTHCktuFNxAB",
        "colab": {
          "base_uri": "https://localhost:8080/",
          "height": 74
        },
        "outputId": "5ac22f9f-de17-4409-ba8d-50b546512e18"
      },
      "outputs": [
        {
          "output_type": "display_data",
          "data": {
            "text/plain": [
              "<IPython.core.display.HTML object>"
            ],
            "text/html": [
              "\n",
              "    <div>\n",
              "      \n",
              "      <progress value='441' max='441' style='width:300px; height:20px; vertical-align: middle;'></progress>\n",
              "      [441/441 00:27]\n",
              "    </div>\n",
              "    "
            ]
          },
          "metadata": {}
        },
        {
          "output_type": "stream",
          "name": "stdout",
          "text": [
            "{'eval_loss': 0.7836877107620239, 'eval_f1_macro': 0.5882148560839964, 'eval_f1_micro': 0.6285685361409192, 'eval_accuracy': 0.1024113475177305, 'eval_runtime': 27.6836, 'eval_samples_per_second': 127.332, 'eval_steps_per_second': 15.93, 'epoch': 4.987234042553191}\n"
          ]
        }
      ],
      "source": [
        "print(trainer.evaluate(test_ds))"
      ]
    },
    {
      "cell_type": "code",
      "source": [
        "from sklearn.metrics import accuracy_score, f1_score\n",
        "import numpy as np\n",
        "import torch\n",
        "\n",
        "predictions = trainer.predict(test_ds)\n",
        "preds = predictions.predictions"
      ],
      "metadata": {
        "colab": {
          "base_uri": "https://localhost:8080/",
          "height": 52
        },
        "id": "UKqqR6tgXLYG",
        "outputId": "c8363d6d-0ace-4ab8-eac0-8a7084faa5ee"
      },
      "execution_count": 23,
      "outputs": [
        {
          "output_type": "display_data",
          "data": {
            "text/plain": [
              "<IPython.core.display.HTML object>"
            ],
            "text/html": []
          },
          "metadata": {}
        },
        {
          "output_type": "stream",
          "name": "stdout",
          "text": [
            "Raw predictions shape: (3525, 5)\n",
            "Final preds shape: (3525, 5)\n"
          ]
        }
      ]
    },
    {
      "cell_type": "code",
      "source": [
        "probs = torch.sigmoid(torch.tensor(preds))\n",
        "\n",
        "threshold = 0.3\n",
        "pred_labels = (probs > threshold).int().numpy()\n",
        "\n",
        "\n",
        "true_labels = np.stack(\n",
        "    [test_df['O'], test_df['C'], test_df['E'], test_df['A'], test_df['N']],\n",
        "    axis=1\n",
        ")\n",
        "\n",
        "acc = accuracy_score(true_labels, pred_labels)\n",
        "f1_macro = f1_score(true_labels, pred_labels, average='macro')\n",
        "f1_micro = f1_score(true_labels, pred_labels, average='micro')\n",
        "\n",
        "print(f\"Accuracy:   {acc:.4f}\")\n",
        "print(f\"F1 (macro): {f1_macro:.4f}\")\n",
        "print(f\"F1 (micro): {f1_micro:.4f}\")"
      ],
      "metadata": {
        "colab": {
          "base_uri": "https://localhost:8080/"
        },
        "id": "ia-4wyCUXUnR",
        "outputId": "a2bdfbf2-c7f4-4f9e-d9e8-5021377627b3"
      },
      "execution_count": 31,
      "outputs": [
        {
          "output_type": "stream",
          "name": "stdout",
          "text": [
            "true_labels shape: (3525, 5) dtype: int64\n",
            "Unique in true_labels: [0 1]\n",
            "Accuracy:   0.0604\n",
            "F1 (macro): 0.5845\n",
            "F1 (micro): 0.6133\n"
          ]
        }
      ]
    }
  ],
  "metadata": {
    "colab": {
      "provenance": [],
      "gpuType": "T4"
    },
    "kernelspec": {
      "display_name": "Python 3",
      "name": "python3"
    },
    "language_info": {
      "name": "python"
    },
    "accelerator": "GPU",
    "widgets": {
      "application/vnd.jupyter.widget-state+json": {
        "69bfb439ca19466f8b8799305e299c26": {
          "model_module": "@jupyter-widgets/controls",
          "model_name": "HBoxModel",
          "model_module_version": "1.5.0",
          "state": {
            "_dom_classes": [],
            "_model_module": "@jupyter-widgets/controls",
            "_model_module_version": "1.5.0",
            "_model_name": "HBoxModel",
            "_view_count": null,
            "_view_module": "@jupyter-widgets/controls",
            "_view_module_version": "1.5.0",
            "_view_name": "HBoxView",
            "box_style": "",
            "children": [
              "IPY_MODEL_596269e5de7449c9b405cb17f4a3e206",
              "IPY_MODEL_0ae275ec5cb54ad498860ea85a04e4eb",
              "IPY_MODEL_d5e9a212210f48338f9a9be14bbfb5c4"
            ],
            "layout": "IPY_MODEL_d3fac86ebd744106aa970b1b81ed69ec"
          }
        },
        "596269e5de7449c9b405cb17f4a3e206": {
          "model_module": "@jupyter-widgets/controls",
          "model_name": "HTMLModel",
          "model_module_version": "1.5.0",
          "state": {
            "_dom_classes": [],
            "_model_module": "@jupyter-widgets/controls",
            "_model_module_version": "1.5.0",
            "_model_name": "HTMLModel",
            "_view_count": null,
            "_view_module": "@jupyter-widgets/controls",
            "_view_module_version": "1.5.0",
            "_view_name": "HTMLView",
            "description": "",
            "description_tooltip": null,
            "layout": "IPY_MODEL_cd0cba50254c4637a54f16e6b7ba51cb",
            "placeholder": "​",
            "style": "IPY_MODEL_9382607cad444880bb4129ccd38079ec",
            "value": "model.safetensors: 100%"
          }
        },
        "0ae275ec5cb54ad498860ea85a04e4eb": {
          "model_module": "@jupyter-widgets/controls",
          "model_name": "FloatProgressModel",
          "model_module_version": "1.5.0",
          "state": {
            "_dom_classes": [],
            "_model_module": "@jupyter-widgets/controls",
            "_model_module_version": "1.5.0",
            "_model_name": "FloatProgressModel",
            "_view_count": null,
            "_view_module": "@jupyter-widgets/controls",
            "_view_module_version": "1.5.0",
            "_view_name": "ProgressView",
            "bar_style": "success",
            "description": "",
            "description_tooltip": null,
            "layout": "IPY_MODEL_5f304f987569418cab896639a7f2f62c",
            "max": 440449768,
            "min": 0,
            "orientation": "horizontal",
            "style": "IPY_MODEL_f4f402d636904c71a32775e51767a052",
            "value": 440449768
          }
        },
        "d5e9a212210f48338f9a9be14bbfb5c4": {
          "model_module": "@jupyter-widgets/controls",
          "model_name": "HTMLModel",
          "model_module_version": "1.5.0",
          "state": {
            "_dom_classes": [],
            "_model_module": "@jupyter-widgets/controls",
            "_model_module_version": "1.5.0",
            "_model_name": "HTMLModel",
            "_view_count": null,
            "_view_module": "@jupyter-widgets/controls",
            "_view_module_version": "1.5.0",
            "_view_name": "HTMLView",
            "description": "",
            "description_tooltip": null,
            "layout": "IPY_MODEL_2f130821d0e346cab578fc05b3ae4c54",
            "placeholder": "​",
            "style": "IPY_MODEL_2f1ce38f50cf4c028cc5d8dfffefcdaf",
            "value": " 440M/440M [00:03&lt;00:00, 147MB/s]"
          }
        },
        "d3fac86ebd744106aa970b1b81ed69ec": {
          "model_module": "@jupyter-widgets/base",
          "model_name": "LayoutModel",
          "model_module_version": "1.2.0",
          "state": {
            "_model_module": "@jupyter-widgets/base",
            "_model_module_version": "1.2.0",
            "_model_name": "LayoutModel",
            "_view_count": null,
            "_view_module": "@jupyter-widgets/base",
            "_view_module_version": "1.2.0",
            "_view_name": "LayoutView",
            "align_content": null,
            "align_items": null,
            "align_self": null,
            "border": null,
            "bottom": null,
            "display": null,
            "flex": null,
            "flex_flow": null,
            "grid_area": null,
            "grid_auto_columns": null,
            "grid_auto_flow": null,
            "grid_auto_rows": null,
            "grid_column": null,
            "grid_gap": null,
            "grid_row": null,
            "grid_template_areas": null,
            "grid_template_columns": null,
            "grid_template_rows": null,
            "height": null,
            "justify_content": null,
            "justify_items": null,
            "left": null,
            "margin": null,
            "max_height": null,
            "max_width": null,
            "min_height": null,
            "min_width": null,
            "object_fit": null,
            "object_position": null,
            "order": null,
            "overflow": null,
            "overflow_x": null,
            "overflow_y": null,
            "padding": null,
            "right": null,
            "top": null,
            "visibility": null,
            "width": null
          }
        },
        "cd0cba50254c4637a54f16e6b7ba51cb": {
          "model_module": "@jupyter-widgets/base",
          "model_name": "LayoutModel",
          "model_module_version": "1.2.0",
          "state": {
            "_model_module": "@jupyter-widgets/base",
            "_model_module_version": "1.2.0",
            "_model_name": "LayoutModel",
            "_view_count": null,
            "_view_module": "@jupyter-widgets/base",
            "_view_module_version": "1.2.0",
            "_view_name": "LayoutView",
            "align_content": null,
            "align_items": null,
            "align_self": null,
            "border": null,
            "bottom": null,
            "display": null,
            "flex": null,
            "flex_flow": null,
            "grid_area": null,
            "grid_auto_columns": null,
            "grid_auto_flow": null,
            "grid_auto_rows": null,
            "grid_column": null,
            "grid_gap": null,
            "grid_row": null,
            "grid_template_areas": null,
            "grid_template_columns": null,
            "grid_template_rows": null,
            "height": null,
            "justify_content": null,
            "justify_items": null,
            "left": null,
            "margin": null,
            "max_height": null,
            "max_width": null,
            "min_height": null,
            "min_width": null,
            "object_fit": null,
            "object_position": null,
            "order": null,
            "overflow": null,
            "overflow_x": null,
            "overflow_y": null,
            "padding": null,
            "right": null,
            "top": null,
            "visibility": null,
            "width": null
          }
        },
        "9382607cad444880bb4129ccd38079ec": {
          "model_module": "@jupyter-widgets/controls",
          "model_name": "DescriptionStyleModel",
          "model_module_version": "1.5.0",
          "state": {
            "_model_module": "@jupyter-widgets/controls",
            "_model_module_version": "1.5.0",
            "_model_name": "DescriptionStyleModel",
            "_view_count": null,
            "_view_module": "@jupyter-widgets/base",
            "_view_module_version": "1.2.0",
            "_view_name": "StyleView",
            "description_width": ""
          }
        },
        "5f304f987569418cab896639a7f2f62c": {
          "model_module": "@jupyter-widgets/base",
          "model_name": "LayoutModel",
          "model_module_version": "1.2.0",
          "state": {
            "_model_module": "@jupyter-widgets/base",
            "_model_module_version": "1.2.0",
            "_model_name": "LayoutModel",
            "_view_count": null,
            "_view_module": "@jupyter-widgets/base",
            "_view_module_version": "1.2.0",
            "_view_name": "LayoutView",
            "align_content": null,
            "align_items": null,
            "align_self": null,
            "border": null,
            "bottom": null,
            "display": null,
            "flex": null,
            "flex_flow": null,
            "grid_area": null,
            "grid_auto_columns": null,
            "grid_auto_flow": null,
            "grid_auto_rows": null,
            "grid_column": null,
            "grid_gap": null,
            "grid_row": null,
            "grid_template_areas": null,
            "grid_template_columns": null,
            "grid_template_rows": null,
            "height": null,
            "justify_content": null,
            "justify_items": null,
            "left": null,
            "margin": null,
            "max_height": null,
            "max_width": null,
            "min_height": null,
            "min_width": null,
            "object_fit": null,
            "object_position": null,
            "order": null,
            "overflow": null,
            "overflow_x": null,
            "overflow_y": null,
            "padding": null,
            "right": null,
            "top": null,
            "visibility": null,
            "width": null
          }
        },
        "f4f402d636904c71a32775e51767a052": {
          "model_module": "@jupyter-widgets/controls",
          "model_name": "ProgressStyleModel",
          "model_module_version": "1.5.0",
          "state": {
            "_model_module": "@jupyter-widgets/controls",
            "_model_module_version": "1.5.0",
            "_model_name": "ProgressStyleModel",
            "_view_count": null,
            "_view_module": "@jupyter-widgets/base",
            "_view_module_version": "1.2.0",
            "_view_name": "StyleView",
            "bar_color": null,
            "description_width": ""
          }
        },
        "2f130821d0e346cab578fc05b3ae4c54": {
          "model_module": "@jupyter-widgets/base",
          "model_name": "LayoutModel",
          "model_module_version": "1.2.0",
          "state": {
            "_model_module": "@jupyter-widgets/base",
            "_model_module_version": "1.2.0",
            "_model_name": "LayoutModel",
            "_view_count": null,
            "_view_module": "@jupyter-widgets/base",
            "_view_module_version": "1.2.0",
            "_view_name": "LayoutView",
            "align_content": null,
            "align_items": null,
            "align_self": null,
            "border": null,
            "bottom": null,
            "display": null,
            "flex": null,
            "flex_flow": null,
            "grid_area": null,
            "grid_auto_columns": null,
            "grid_auto_flow": null,
            "grid_auto_rows": null,
            "grid_column": null,
            "grid_gap": null,
            "grid_row": null,
            "grid_template_areas": null,
            "grid_template_columns": null,
            "grid_template_rows": null,
            "height": null,
            "justify_content": null,
            "justify_items": null,
            "left": null,
            "margin": null,
            "max_height": null,
            "max_width": null,
            "min_height": null,
            "min_width": null,
            "object_fit": null,
            "object_position": null,
            "order": null,
            "overflow": null,
            "overflow_x": null,
            "overflow_y": null,
            "padding": null,
            "right": null,
            "top": null,
            "visibility": null,
            "width": null
          }
        },
        "2f1ce38f50cf4c028cc5d8dfffefcdaf": {
          "model_module": "@jupyter-widgets/controls",
          "model_name": "DescriptionStyleModel",
          "model_module_version": "1.5.0",
          "state": {
            "_model_module": "@jupyter-widgets/controls",
            "_model_module_version": "1.5.0",
            "_model_name": "DescriptionStyleModel",
            "_view_count": null,
            "_view_module": "@jupyter-widgets/base",
            "_view_module_version": "1.2.0",
            "_view_name": "StyleView",
            "description_width": ""
          }
        }
      }
    }
  },
  "nbformat": 4,
  "nbformat_minor": 0
}